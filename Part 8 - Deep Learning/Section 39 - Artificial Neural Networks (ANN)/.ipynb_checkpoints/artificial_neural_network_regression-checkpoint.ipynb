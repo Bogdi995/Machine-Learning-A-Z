{
 "cells": [
  {
   "cell_type": "markdown",
   "metadata": {
    "colab_type": "text",
    "id": "3cbb7fRy-eyr"
   },
   "source": [
    "# Artificial Neural Network"
   ]
  },
  {
   "cell_type": "markdown",
   "metadata": {
    "colab_type": "text",
    "id": "8sNDnxE2-pwE"
   },
   "source": [
    "### Importing the libraries"
   ]
  },
  {
   "cell_type": "code",
   "execution_count": 1,
   "metadata": {
    "colab": {},
    "colab_type": "code",
    "id": "lxChR1Rk-umf"
   },
   "outputs": [],
   "source": [
    "import numpy as np\n",
    "import pandas as pd\n",
    "import tensorflow as tf"
   ]
  },
  {
   "cell_type": "code",
   "execution_count": 2,
   "metadata": {
    "colab": {
     "base_uri": "https://localhost:8080/",
     "height": 34
    },
    "colab_type": "code",
    "id": "uBTqR3nacj0e",
    "outputId": "4c0bd183-e424-429a-9fba-ceb841c06888"
   },
   "outputs": [
    {
     "data": {
      "text/plain": [
       "'2.14.0'"
      ]
     },
     "execution_count": 2,
     "metadata": {},
     "output_type": "execute_result"
    }
   ],
   "source": [
    "tf.__version__"
   ]
  },
  {
   "cell_type": "markdown",
   "metadata": {
    "colab_type": "text",
    "id": "AG3FQEch-yuA"
   },
   "source": [
    "## Part 1 - Data Preprocessing"
   ]
  },
  {
   "cell_type": "markdown",
   "metadata": {
    "colab_type": "text",
    "id": "-4zq8Mza_D9O"
   },
   "source": [
    "### Importing the dataset"
   ]
  },
  {
   "cell_type": "code",
   "execution_count": 5,
   "metadata": {
    "colab": {},
    "colab_type": "code",
    "id": "B9CV13Co_HHM"
   },
   "outputs": [],
   "source": [
    "dataset = pd.read_excel('Folds5x2_pp.xlsx')\n",
    "X = dataset.iloc[:, :-1].values\n",
    "y = dataset.iloc[:, -1].values"
   ]
  },
  {
   "cell_type": "code",
   "execution_count": 6,
   "metadata": {},
   "outputs": [
    {
     "data": {
      "text/plain": [
       "array([[  14.96,   41.76, 1024.07,   73.17],\n",
       "       [  25.18,   62.96, 1020.04,   59.08],\n",
       "       [   5.11,   39.4 , 1012.16,   92.14],\n",
       "       ...,\n",
       "       [  31.32,   74.33, 1012.92,   36.48],\n",
       "       [  24.48,   69.45, 1013.86,   62.39],\n",
       "       [  21.6 ,   62.52, 1017.23,   67.87]])"
      ]
     },
     "execution_count": 6,
     "metadata": {},
     "output_type": "execute_result"
    }
   ],
   "source": [
    "print(X)"
   ]
  },
  {
   "cell_type": "code",
   "execution_count": 7,
   "metadata": {},
   "outputs": [
    {
     "name": "stdout",
     "output_type": "stream",
     "text": [
      "[463.26 444.37 488.56 ... 429.57 435.74 453.28]\n"
     ]
    }
   ],
   "source": [
    "print(y)"
   ]
  },
  {
   "cell_type": "markdown",
   "metadata": {
    "colab_type": "text",
    "id": "VC6omXel_Up0"
   },
   "source": [
    "### Splitting the dataset into the Training set and Test set"
   ]
  },
  {
   "cell_type": "code",
   "execution_count": 8,
   "metadata": {
    "colab": {},
    "colab_type": "code",
    "id": "L5edeb2r_agx"
   },
   "outputs": [],
   "source": [
    "from sklearn.model_selection import train_test_split\n",
    "\n",
    "X_train, X_test, y_train, y_test = train_test_split(X, y, test_size = 0.2, random_state = 0)"
   ]
  },
  {
   "cell_type": "markdown",
   "metadata": {
    "colab_type": "text",
    "id": "_mSLlAT9_eyI"
   },
   "source": [
    "## Part 2 - Building the ANN"
   ]
  },
  {
   "cell_type": "markdown",
   "metadata": {
    "colab_type": "text",
    "id": "CsBULd_f_wLY"
   },
   "source": [
    "### Initializing the ANN"
   ]
  },
  {
   "cell_type": "code",
   "execution_count": 9,
   "metadata": {
    "colab": {},
    "colab_type": "code",
    "id": "J6Hd97Ls__Nz"
   },
   "outputs": [],
   "source": [
    "ann = tf.keras.models.Sequential()"
   ]
  },
  {
   "cell_type": "markdown",
   "metadata": {
    "colab_type": "text",
    "id": "iitAFJS_ABUn"
   },
   "source": [
    "### Adding the input layer and the first hidden layer"
   ]
  },
  {
   "cell_type": "code",
   "execution_count": 10,
   "metadata": {
    "colab": {},
    "colab_type": "code",
    "id": "ksO_Vv40AHix"
   },
   "outputs": [],
   "source": [
    "ann.add(tf.keras.layers.Dense(units=6, activation='relu'))"
   ]
  },
  {
   "cell_type": "markdown",
   "metadata": {
    "colab_type": "text",
    "id": "-lb4kK_wAKbs"
   },
   "source": [
    "### Adding the second hidden layer"
   ]
  },
  {
   "cell_type": "code",
   "execution_count": 11,
   "metadata": {
    "colab": {},
    "colab_type": "code",
    "id": "c2357OqEAQOQ"
   },
   "outputs": [],
   "source": [
    "ann.add(tf.keras.layers.Dense(units=6, activation='relu'))"
   ]
  },
  {
   "cell_type": "markdown",
   "metadata": {
    "colab_type": "text",
    "id": "jwMOmKb3AdBY"
   },
   "source": [
    "### Adding the output layer"
   ]
  },
  {
   "cell_type": "code",
   "execution_count": 12,
   "metadata": {
    "colab": {},
    "colab_type": "code",
    "id": "YFATpzsUAkLL"
   },
   "outputs": [],
   "source": [
    "ann.add(tf.keras.layers.Dense(units=1))"
   ]
  },
  {
   "cell_type": "markdown",
   "metadata": {
    "colab_type": "text",
    "id": "fq7e4fF6A1yy"
   },
   "source": [
    "## Part 3 - Training the ANN"
   ]
  },
  {
   "cell_type": "markdown",
   "metadata": {
    "colab_type": "text",
    "id": "qDeylAs2An25"
   },
   "source": [
    "### Compiling the ANN"
   ]
  },
  {
   "cell_type": "code",
   "execution_count": 13,
   "metadata": {
    "colab": {},
    "colab_type": "code",
    "id": "pesgbWlCAtB4"
   },
   "outputs": [],
   "source": [
    "ann.compile(optimizer='adam', loss='mean_squared_error')"
   ]
  },
  {
   "cell_type": "markdown",
   "metadata": {
    "colab_type": "text",
    "id": "YjVuiybYOo7r"
   },
   "source": [
    "### Training the ANN model on the Training set"
   ]
  },
  {
   "cell_type": "code",
   "execution_count": 15,
   "metadata": {
    "colab": {
     "base_uri": "https://localhost:8080/",
     "height": 1000
    },
    "colab_type": "code",
    "id": "c_vV-tiiA5zn",
    "outputId": "4a2b6ee6-ed75-4698-9069-b250e613803f",
    "scrolled": true
   },
   "outputs": [
    {
     "name": "stdout",
     "output_type": "stream",
     "text": [
      "Epoch 1/100\n",
      "766/766 [==============================] - 1s 969us/step - loss: 29.8266\n",
      "Epoch 2/100\n",
      "766/766 [==============================] - 1s 957us/step - loss: 28.3606\n",
      "Epoch 3/100\n",
      "766/766 [==============================] - 1s 985us/step - loss: 27.9943\n",
      "Epoch 4/100\n",
      "766/766 [==============================] - 1s 966us/step - loss: 28.1813\n",
      "Epoch 5/100\n",
      "766/766 [==============================] - 1s 963us/step - loss: 28.7313\n",
      "Epoch 6/100\n",
      "766/766 [==============================] - 1s 947us/step - loss: 27.7647\n",
      "Epoch 7/100\n",
      "766/766 [==============================] - 1s 987us/step - loss: 28.7971\n",
      "Epoch 8/100\n",
      "766/766 [==============================] - 1s 965us/step - loss: 28.6284\n",
      "Epoch 9/100\n",
      "766/766 [==============================] - 1s 984us/step - loss: 28.5163\n",
      "Epoch 10/100\n",
      "766/766 [==============================] - 1s 962us/step - loss: 27.9833\n",
      "Epoch 11/100\n",
      "766/766 [==============================] - 1s 1ms/step - loss: 29.6294\n",
      "Epoch 12/100\n",
      "766/766 [==============================] - 1s 1ms/step - loss: 28.2324\n",
      "Epoch 13/100\n",
      "766/766 [==============================] - 1s 2ms/step - loss: 28.9815\n",
      "Epoch 14/100\n",
      "766/766 [==============================] - 1s 2ms/step - loss: 28.3512\n",
      "Epoch 15/100\n",
      "766/766 [==============================] - 1s 2ms/step - loss: 28.2324\n",
      "Epoch 16/100\n",
      "766/766 [==============================] - 1s 2ms/step - loss: 28.1581\n",
      "Epoch 17/100\n",
      "766/766 [==============================] - 1s 2ms/step - loss: 28.1282\n",
      "Epoch 18/100\n",
      "766/766 [==============================] - 1s 2ms/step - loss: 28.3633\n",
      "Epoch 19/100\n",
      "766/766 [==============================] - 1s 2ms/step - loss: 28.0449\n",
      "Epoch 20/100\n",
      "766/766 [==============================] - 1s 2ms/step - loss: 29.0897\n",
      "Epoch 21/100\n",
      "766/766 [==============================] - 1s 1ms/step - loss: 28.3733\n",
      "Epoch 22/100\n",
      "766/766 [==============================] - 1s 1ms/step - loss: 27.8564\n",
      "Epoch 23/100\n",
      "766/766 [==============================] - 1s 1ms/step - loss: 28.5029\n",
      "Epoch 24/100\n",
      "766/766 [==============================] - 1s 1ms/step - loss: 28.0948\n",
      "Epoch 25/100\n",
      "766/766 [==============================] - 1s 1ms/step - loss: 28.2366\n",
      "Epoch 26/100\n",
      "766/766 [==============================] - 1s 1ms/step - loss: 28.3440\n",
      "Epoch 27/100\n",
      "766/766 [==============================] - 1s 1ms/step - loss: 28.8885\n",
      "Epoch 28/100\n",
      "766/766 [==============================] - 1s 1ms/step - loss: 28.5208\n",
      "Epoch 29/100\n",
      "766/766 [==============================] - 1s 1ms/step - loss: 28.4116\n",
      "Epoch 30/100\n",
      "766/766 [==============================] - 1s 1ms/step - loss: 28.0863\n",
      "Epoch 31/100\n",
      "766/766 [==============================] - 1s 1ms/step - loss: 28.6532\n",
      "Epoch 32/100\n",
      "766/766 [==============================] - 1s 1ms/step - loss: 28.5289\n",
      "Epoch 33/100\n",
      "766/766 [==============================] - 1s 1ms/step - loss: 28.7036\n",
      "Epoch 34/100\n",
      "766/766 [==============================] - 1s 1ms/step - loss: 28.7840\n",
      "Epoch 35/100\n",
      "766/766 [==============================] - 1s 1ms/step - loss: 28.5765\n",
      "Epoch 36/100\n",
      "766/766 [==============================] - 1s 2ms/step - loss: 28.5146\n",
      "Epoch 37/100\n",
      "766/766 [==============================] - 1s 2ms/step - loss: 28.3837\n",
      "Epoch 38/100\n",
      "766/766 [==============================] - 1s 2ms/step - loss: 28.6246\n",
      "Epoch 39/100\n",
      "766/766 [==============================] - 1s 2ms/step - loss: 28.4102\n",
      "Epoch 40/100\n",
      "766/766 [==============================] - 1s 2ms/step - loss: 28.8997\n",
      "Epoch 41/100\n",
      "766/766 [==============================] - 2s 3ms/step - loss: 28.1165\n",
      "Epoch 42/100\n",
      "766/766 [==============================] - 1s 2ms/step - loss: 28.0111\n",
      "Epoch 43/100\n",
      "766/766 [==============================] - 1s 2ms/step - loss: 29.1894\n",
      "Epoch 44/100\n",
      "766/766 [==============================] - 1s 2ms/step - loss: 28.5317\n",
      "Epoch 45/100\n",
      "766/766 [==============================] - 1s 1ms/step - loss: 28.4879\n",
      "Epoch 46/100\n",
      "766/766 [==============================] - 1s 2ms/step - loss: 27.9980\n",
      "Epoch 47/100\n",
      "766/766 [==============================] - 1s 2ms/step - loss: 28.2246\n",
      "Epoch 48/100\n",
      "766/766 [==============================] - 1s 2ms/step - loss: 29.2395\n",
      "Epoch 49/100\n",
      "766/766 [==============================] - 1s 1ms/step - loss: 28.0045\n",
      "Epoch 50/100\n",
      "766/766 [==============================] - 1s 1ms/step - loss: 28.4512\n",
      "Epoch 51/100\n",
      "766/766 [==============================] - 1s 2ms/step - loss: 29.0125\n",
      "Epoch 52/100\n",
      "766/766 [==============================] - 2s 2ms/step - loss: 28.2074\n",
      "Epoch 53/100\n",
      "766/766 [==============================] - 1s 2ms/step - loss: 28.1720\n",
      "Epoch 54/100\n",
      "766/766 [==============================] - 1s 2ms/step - loss: 29.0156\n",
      "Epoch 55/100\n",
      "766/766 [==============================] - 1s 2ms/step - loss: 28.3177\n",
      "Epoch 56/100\n",
      "766/766 [==============================] - 1s 2ms/step - loss: 28.7500\n",
      "Epoch 57/100\n",
      "766/766 [==============================] - 1s 2ms/step - loss: 28.3351\n",
      "Epoch 58/100\n",
      "766/766 [==============================] - 1s 2ms/step - loss: 28.2789\n",
      "Epoch 59/100\n",
      "766/766 [==============================] - 1s 2ms/step - loss: 28.5633\n",
      "Epoch 60/100\n",
      "766/766 [==============================] - 1s 1ms/step - loss: 28.3940\n",
      "Epoch 61/100\n",
      "766/766 [==============================] - 1s 2ms/step - loss: 27.9199\n",
      "Epoch 62/100\n",
      "766/766 [==============================] - 1s 1ms/step - loss: 28.1010\n",
      "Epoch 63/100\n",
      "766/766 [==============================] - 1s 1ms/step - loss: 28.5736\n",
      "Epoch 64/100\n",
      "766/766 [==============================] - 1s 1ms/step - loss: 28.8859\n",
      "Epoch 65/100\n",
      "766/766 [==============================] - 1s 1ms/step - loss: 27.7795\n",
      "Epoch 66/100\n",
      "766/766 [==============================] - 1s 1ms/step - loss: 28.3543\n",
      "Epoch 67/100\n",
      "766/766 [==============================] - 1s 2ms/step - loss: 28.0197\n",
      "Epoch 68/100\n",
      "766/766 [==============================] - 1s 2ms/step - loss: 29.1440\n",
      "Epoch 69/100\n",
      "766/766 [==============================] - 1s 2ms/step - loss: 28.6285\n",
      "Epoch 70/100\n",
      "766/766 [==============================] - 1s 2ms/step - loss: 28.7282\n",
      "Epoch 71/100\n",
      "766/766 [==============================] - 1s 2ms/step - loss: 28.1365\n",
      "Epoch 72/100\n",
      "766/766 [==============================] - 1s 2ms/step - loss: 27.9779\n",
      "Epoch 73/100\n",
      "766/766 [==============================] - 2s 2ms/step - loss: 28.5461\n",
      "Epoch 74/100\n",
      "766/766 [==============================] - 1s 2ms/step - loss: 28.3637\n",
      "Epoch 75/100\n",
      "766/766 [==============================] - 1s 1ms/step - loss: 28.0361\n",
      "Epoch 76/100\n",
      "766/766 [==============================] - 1s 2ms/step - loss: 28.3175\n",
      "Epoch 77/100\n",
      "766/766 [==============================] - 1s 1ms/step - loss: 28.2690\n",
      "Epoch 78/100\n",
      "766/766 [==============================] - 1s 1ms/step - loss: 28.3978\n",
      "Epoch 79/100\n",
      "766/766 [==============================] - 1s 2ms/step - loss: 28.0953\n",
      "Epoch 80/100\n",
      "766/766 [==============================] - 1s 2ms/step - loss: 28.2188\n",
      "Epoch 81/100\n",
      "766/766 [==============================] - 1s 2ms/step - loss: 28.0618\n",
      "Epoch 82/100\n",
      "766/766 [==============================] - 1s 1ms/step - loss: 27.7551\n",
      "Epoch 83/100\n",
      "766/766 [==============================] - 1s 1ms/step - loss: 28.2728\n",
      "Epoch 84/100\n",
      "766/766 [==============================] - 1s 1ms/step - loss: 27.9328\n",
      "Epoch 85/100\n",
      "766/766 [==============================] - 1s 1ms/step - loss: 28.9469\n",
      "Epoch 86/100\n",
      "766/766 [==============================] - 1s 2ms/step - loss: 28.4328\n",
      "Epoch 87/100\n",
      "766/766 [==============================] - 1s 2ms/step - loss: 28.4231\n",
      "Epoch 88/100\n",
      "766/766 [==============================] - 1s 2ms/step - loss: 28.4216\n",
      "Epoch 89/100\n",
      "766/766 [==============================] - 1s 1ms/step - loss: 27.5706\n",
      "Epoch 90/100\n",
      "766/766 [==============================] - 1s 1ms/step - loss: 28.6563\n",
      "Epoch 91/100\n",
      "766/766 [==============================] - 1s 2ms/step - loss: 27.8228\n",
      "Epoch 92/100\n",
      "766/766 [==============================] - 1s 2ms/step - loss: 27.9520\n",
      "Epoch 93/100\n",
      "766/766 [==============================] - 1s 2ms/step - loss: 28.9229\n",
      "Epoch 94/100\n",
      "766/766 [==============================] - 1s 2ms/step - loss: 28.6624\n",
      "Epoch 95/100\n",
      "766/766 [==============================] - 1s 2ms/step - loss: 28.5989\n",
      "Epoch 96/100\n",
      "766/766 [==============================] - 1s 2ms/step - loss: 27.9051\n",
      "Epoch 97/100\n",
      "766/766 [==============================] - 1s 2ms/step - loss: 27.7252\n",
      "Epoch 98/100\n",
      "766/766 [==============================] - 1s 2ms/step - loss: 29.0083\n",
      "Epoch 99/100\n",
      "766/766 [==============================] - 1s 2ms/step - loss: 28.4280\n",
      "Epoch 100/100\n",
      "766/766 [==============================] - 1s 2ms/step - loss: 27.9493\n"
     ]
    },
    {
     "data": {
      "text/plain": [
       "<keras.src.callbacks.History at 0x24fd111c490>"
      ]
     },
     "execution_count": 15,
     "metadata": {},
     "output_type": "execute_result"
    }
   ],
   "source": [
    "ann.fit(X_train, y_train, batch_size=10, epochs=100)"
   ]
  },
  {
   "cell_type": "markdown",
   "metadata": {
    "colab_type": "text",
    "id": "0H0zKKNEBLD5"
   },
   "source": [
    "### Predicting the results of the Test set"
   ]
  },
  {
   "cell_type": "code",
   "execution_count": 16,
   "metadata": {
    "colab": {
     "base_uri": "https://localhost:8080/",
     "height": 134
    },
    "colab_type": "code",
    "id": "IA0yApEmBG1X",
    "outputId": "cb981e1f-9204-4a2a-fece-9d66a6919189"
   },
   "outputs": [
    {
     "name": "stdout",
     "output_type": "stream",
     "text": [
      "60/60 [==============================] - 0s 960us/step\n",
      "[[432.51 431.23]\n",
      " [463.53 460.01]\n",
      " [467.03 461.14]\n",
      " ...\n",
      " [474.25 473.26]\n",
      " [441.04 438.  ]\n",
      " [460.24 463.28]]\n"
     ]
    }
   ],
   "source": [
    "y_pred = ann.predict(X_test)\n",
    "np.set_printoptions(precision=2)\n",
    "print(np.concatenate((y_pred.reshape(len(y_pred), 1), y_test.reshape(len(y_test), 1)), 1))"
   ]
  }
 ],
 "metadata": {
  "colab": {
   "collapsed_sections": [],
   "name": "Artificial Neural Network",
   "provenance": [],
   "toc_visible": true
  },
  "kernelspec": {
   "display_name": "Python 3 (ipykernel)",
   "language": "python",
   "name": "python3"
  },
  "language_info": {
   "codemirror_mode": {
    "name": "ipython",
    "version": 3
   },
   "file_extension": ".py",
   "mimetype": "text/x-python",
   "name": "python",
   "nbconvert_exporter": "python",
   "pygments_lexer": "ipython3",
   "version": "3.11.4"
  }
 },
 "nbformat": 4,
 "nbformat_minor": 4
}
